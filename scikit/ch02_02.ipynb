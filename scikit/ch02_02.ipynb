{
 "cells": [
  {
   "cell_type": "code",
   "execution_count": 11,
   "metadata": {},
   "outputs": [
    {
     "data": {
      "text/plain": [
       "[<matplotlib.lines.Line2D at 0x7f91396bd898>,\n",
       " <matplotlib.lines.Line2D at 0x7f91396bda20>]"
      ]
     },
     "execution_count": 11,
     "metadata": {},
     "output_type": "execute_result"
    },
    {
     "data": {
      "image/png": "[encoded data removed]",
      "text/plain": [
       "<Figure size 432x288 with 1 Axes>"
      ]
     },
     "metadata": {},
     "output_type": "display_data"
    }
   ],
   "source": [
    "# 一维随机漫步算法 平方根曲线分布\n",
    "# 二维随机漫步算法 ？\n",
    "%matplotlib inline\n",
    "import matplotlib.pyplot as plt\n",
    "import numpy as np\n",
    "n_person = 2000\n",
    "n_times = 500\n",
    "t = np.arange(n_times)\n",
    "steps = 2 * np.random.randint(0,2,(n_person,n_times)) - 1  # [0,2)\n",
    "amount = np.cumsum(steps,axis=1)   # 轴向元素累加和  axis=1表示按列累加  列的方向为 x 轴\n",
    "sd_amount = amount ** 2\n",
    "mean_sd_amount = sd_amount.mean(axis=0)  # 按行求均值   行方向 是 y 轴正方向\n",
    "plt.xlabel(r\"$t$\")\n",
    "plt.ylabel(r\"$sqrt{\\langle (\\delta x)^2 \\langle}$\")\n",
    "\n",
    "# '-' solid line style\n",
    "# '--' dashed line style\n",
    "# '.' point marker\n",
    "plt.plot(t,np.sqrt(mean_sd_amount),'g.',t,np.sqrt(t),'r-')"
   ]
  },
  {
   "cell_type": "code",
   "execution_count": 12,
   "metadata": {},
   "outputs": [
    {
     "name": "stdout",
     "output_type": "stream",
     "text": [
      "[0 1 2 3 4]\n",
      "[[-1 -1 -1 -1  1]\n",
      " [ 1 -1  1 -1 -1]\n",
      " [-1  1  1  1 -1]\n",
      " [ 1  1  1  1 -1]\n",
      " [ 1  1  1 -1 -1]\n",
      " [-1 -1 -1 -1  1]\n",
      " [ 1  1  1  1 -1]\n",
      " [ 1 -1 -1  1 -1]\n",
      " [ 1 -1 -1 -1  1]\n",
      " [ 1  1 -1 -1  1]\n",
      " [-1  1  1 -1  1]\n",
      " [-1 -1 -1 -1 -1]\n",
      " [-1 -1 -1 -1 -1]\n",
      " [ 1  1 -1 -1  1]\n",
      " [-1  1 -1 -1 -1]\n",
      " [-1  1  1  1 -1]\n",
      " [ 1 -1  1 -1 -1]\n",
      " [ 1 -1 -1 -1  1]\n",
      " [-1  1 -1  1  1]\n",
      " [-1  1 -1  1  1]]\n",
      "[[-1 -2 -3 -4 -3]\n",
      " [ 1  0  1  0 -1]\n",
      " [-1  0  1  2  1]\n",
      " [ 1  2  3  4  3]\n",
      " [ 1  2  3  2  1]\n",
      " [-1 -2 -3 -4 -3]\n",
      " [ 1  2  3  4  3]\n",
      " [ 1  0 -1  0 -1]\n",
      " [ 1  0 -1 -2 -1]\n",
      " [ 1  2  1  0  1]\n",
      " [-1  0  1  0  1]\n",
      " [-1 -2 -3 -4 -5]\n",
      " [-1 -2 -3 -4 -5]\n",
      " [ 1  2  1  0  1]\n",
      " [-1  0 -1 -2 -3]\n",
      " [-1  0  1  2  1]\n",
      " [ 1  0  1  0 -1]\n",
      " [ 1  0 -1 -2 -1]\n",
      " [-1  0 -1  0  1]\n",
      " [-1  0 -1  0  1]]\n",
      "(20, 5)\n",
      "[[ 1  4  9 16  9]\n",
      " [ 1  0  1  0  1]\n",
      " [ 1  0  1  4  1]\n",
      " [ 1  4  9 16  9]\n",
      " [ 1  4  9  4  1]\n",
      " [ 1  4  9 16  9]\n",
      " [ 1  4  9 16  9]\n",
      " [ 1  0  1  0  1]\n",
      " [ 1  0  1  4  1]\n",
      " [ 1  4  1  0  1]\n",
      " [ 1  0  1  0  1]\n",
      " [ 1  4  9 16 25]\n",
      " [ 1  4  9 16 25]\n",
      " [ 1  4  1  0  1]\n",
      " [ 1  0  1  4  9]\n",
      " [ 1  0  1  4  1]\n",
      " [ 1  0  1  0  1]\n",
      " [ 1  0  1  4  1]\n",
      " [ 1  0  1  0  1]\n",
      " [ 1  0  1  0  1]]\n",
      "[1.  1.8 3.8 6.  5.4]\n"
     ]
    }
   ],
   "source": [
    "# 一维随机漫步算法 平方根曲线分布\n",
    "%matplotlib inline\n",
    "import matplotlib.pyplot as plt\n",
    "import numpy as np\n",
    "n_person = 20\n",
    "n_times = 5\n",
    "t = np.arange(n_times)\n",
    "print(t)\n",
    "steps = 2 * np.random.randint(0,2,(n_person,n_times)) - 1\n",
    "print(steps)\n",
    "amount = np.cumsum(steps,axis=1)\n",
    "print(amount)\n",
    "print(amount.shape)\n",
    "sd_amount = amount ** 2\n",
    "print(sd_amount)\n",
    "mean_sd_amount = sd_amount.mean(axis=0)\n",
    "print(mean_sd_amount)"
   ]
  },
  {
   "cell_type": "code",
   "execution_count": 1,
   "metadata": {},
   "outputs": [
    {
     "name": "stdout",
     "output_type": "stream",
     "text": [
      "[ 1.44130231 -2.75777627  2.31639385  0.16931664]\n"
     ]
    },
    {
     "data": {
      "text/plain": [
       "[<matplotlib.lines.Line2D at 0x7fe497196940>,\n",
       " <matplotlib.lines.Line2D at 0x7fe497196be0>]"
      ]
     },
     "execution_count": 1,
     "metadata": {},
     "output_type": "execute_result"
    },
    {
     "data": {
      "image/png": "[encoded data removed]",
      "text/plain": [
       "<Figure size 432x288 with 1 Axes>"
      ]
     },
     "metadata": {},
     "output_type": "display_data"
    }
   ],
   "source": [
    "# 多项式拟合\n",
    "%matplotlib inline\n",
    "import numpy as np\n",
    "import matplotlib.pyplot as plt\n",
    "n_dots = 20\n",
    "n_order = 3\n",
    "\n",
    "x = np.linspace(0,1,n_dots)\n",
    "y = np.sqrt(x) + 0.2*np.random.rand(n_dots)\n",
    "p = np.poly1d(np.polyfit(x,y,n_order))\n",
    "print(p.coeffs)\n",
    "t = np.linspace(0,1,200)\n",
    "plt.plot(x,y,'ro',t,p(t),'-')  # 'o' circle marker,ro red circle marker;'-':solid line style"
   ]
  },
  {
   "cell_type": "code",
   "execution_count": 2,
   "metadata": {},
   "outputs": [
    {
     "name": "stdout",
     "output_type": "stream",
     "text": [
      "3.1411152\n"
     ]
    }
   ],
   "source": [
    "# 蒙特卡洛方法计算圆周率\n",
    "import numpy as np\n",
    "n_dots = 10000000\n",
    "x = np.random.random(n_dots)\n",
    "y = np.random.random(n_dots)\n",
    "distance = np.sqrt(x**2 + y**2)\n",
    "in_circle = distance[distance < 1]\n",
    "pi = 4 * float(len(in_circle)) / n_dots\n",
    "print(pi)"
   ]
  },
  {
   "cell_type": "code",
   "execution_count": null,
   "metadata": {},
   "outputs": [],
   "source": []
  }
 ],
 "metadata": {
  "kernelspec": {
   "display_name": "Python 3",
   "language": "python",
   "name": "python3"
  },
  "language_info": {
   "codemirror_mode": {
    "name": "ipython",
    "version": 3
   },
   "file_extension": ".py",
   "mimetype": "text/x-python",
   "name": "python",
   "nbconvert_exporter": "python",
   "pygments_lexer": "ipython3",
   "version": "3.6.5"
  }
 },
 "nbformat": 4,
 "nbformat_minor": 2
}
